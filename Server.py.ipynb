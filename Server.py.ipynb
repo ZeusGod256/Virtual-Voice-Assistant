{
 "cells": [
  {
   "cell_type": "code",
   "execution_count": null,
   "id": "1b5524d1",
   "metadata": {},
   "outputs": [
    {
     "name": "stdout",
     "output_type": "stream",
     "text": [
      "Server running at port 8000\n"
     ]
    }
   ],
   "source": [
    "import http.server\n",
    "import socketserver\n",
    "import webbrowser\n",
    "\n",
    "PORT = 8000\n",
    "\n",
    "class CommandHandler(http.server.SimpleHTTPRequestHandler):\n",
    "    def do_GET(self):\n",
    "        # Parse the command from the URL\n",
    "        command = self.path[1:].replace(\"%20\", \" \")\n",
    "        print(\"Received command:\", command)\n",
    "\n",
    "        # Execute command\n",
    "        if command.startswith(\"open_browser\"):\n",
    "            url = command.split(\"=\")[1]\n",
    "            webbrowser.open(url)\n",
    "\n",
    "with socketserver.TCPServer((\"\", PORT), CommandHandler) as httpd:\n",
    "    print(\"Server running at port\", PORT)\n",
    "    httpd.serve_forever()\n"
   ]
  },
  {
   "cell_type": "code",
   "execution_count": null,
   "id": "6d5d1e30",
   "metadata": {},
   "outputs": [],
   "source": []
  }
 ],
 "metadata": {
  "kernelspec": {
   "display_name": "Python 3 (ipykernel)",
   "language": "python",
   "name": "python3"
  },
  "language_info": {
   "codemirror_mode": {
    "name": "ipython",
    "version": 3
   },
   "file_extension": ".py",
   "mimetype": "text/x-python",
   "name": "python",
   "nbconvert_exporter": "python",
   "pygments_lexer": "ipython3",
   "version": "3.11.4"
  }
 },
 "nbformat": 4,
 "nbformat_minor": 5
}
